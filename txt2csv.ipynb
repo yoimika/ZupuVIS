{
 "cells": [
  {
   "cell_type": "markdown",
   "metadata": {},
   "source": [
    "# 族谱\n",
    "结构：\n",
    "\n",
    "名字 | 父亲 | 辈分 | 其他信息 "
   ]
  },
  {
   "cell_type": "code",
   "execution_count": 1,
   "metadata": {},
   "outputs": [],
   "source": [
    "from utils.txt2csv_utils import *\n",
    "from configs.config import txt2csv_config"
   ]
  },
  {
   "cell_type": "markdown",
   "metadata": {},
   "source": [
    "## Sectoin 01: 处理空格和回车"
   ]
  },
  {
   "cell_type": "code",
   "execution_count": 2,
   "metadata": {},
   "outputs": [
    {
     "name": "stdout",
     "output_type": "stream",
     "text": [
      "Read from raw file with lines: 254\n"
     ]
    },
    {
     "data": {
      "text/plain": [
       "'第十一世（“上”字辈）'"
      ]
     },
     "execution_count": 2,
     "metadata": {},
     "output_type": "execute_result"
    }
   ],
   "source": [
    "with open(txt2csv_config.txt_fp, mode='r', encoding='utf-8') as file:\n",
    "    lines = file.readlines()\n",
    "print(f\"Read from raw file with lines: {len(lines)}\")\n",
    "clean_string(random_get_list(lines))"
   ]
  },
  {
   "cell_type": "code",
   "execution_count": 3,
   "metadata": {},
   "outputs": [
    {
     "name": "stdout",
     "output_type": "stream",
     "text": [
      "Cleaned data with lines: 226\n"
     ]
    },
    {
     "data": {
      "text/plain": [
       "'传武次女 文姣 出生一九六八年五月一日 嫁凡龙圩古楼村蒋'"
      ]
     },
     "execution_count": 3,
     "metadata": {},
     "output_type": "execute_result"
    }
   ],
   "source": [
    "def clean_list(input_list: list[str])->list[str]:\n",
    "    ret_list = []\n",
    "    for i in range(len(input_list)):\n",
    "        cleaned_str = clean_string(input_list[i])\n",
    "        if len(cleaned_str) != 0:\n",
    "            ret_list.append(cleaned_str) \n",
    "    return ret_list\n",
    "cleaned_lines = clean_list(lines)\n",
    "print(f\"Cleaned data with lines: {len(cleaned_lines)}\")\n",
    "random_get_list(cleaned_lines)"
   ]
  },
  {
   "cell_type": "markdown",
   "metadata": {},
   "source": [
    "## Section 02: 提取信息\n",
    "提取 父辈、名字、其他信息"
   ]
  },
  {
   "cell_type": "markdown",
   "metadata": {},
   "source": [
    "#### SubSection 02.01: 提取粗略信息\n",
    "只单纯的提取信息，不做信息之间的关联。\n",
    "\n",
    "信息： | 父亲 | 姓名 | info | 第xx世 | xx辈 |"
   ]
  },
  {
   "cell_type": "code",
   "execution_count": 4,
   "metadata": {},
   "outputs": [],
   "source": [
    "raw_extract_lines = raw_extract_list(cleaned_lines)"
   ]
  },
  {
   "cell_type": "code",
   "execution_count": 5,
   "metadata": {},
   "outputs": [
    {
     "data": {
      "text/plain": [
       "['仁亮女', '莉文', '第二十三世', '“敬”字辈', '出生二OO八年八月三日']"
      ]
     },
     "execution_count": 5,
     "metadata": {},
     "output_type": "execute_result"
    }
   ],
   "source": [
    "random_get_list(raw_extract_lines)"
   ]
  },
  {
   "cell_type": "markdown",
   "metadata": {},
   "source": [
    "#### SubSection 02.02: 处理父辈\n",
    "信息：|父辈姓名|辈分|姓名|info|第xx世|xx辈|"
   ]
  },
  {
   "cell_type": "code",
   "execution_count": 6,
   "metadata": {},
   "outputs": [],
   "source": [
    "extract_lines = filter_father_name_list(raw_extract_lines)"
   ]
  },
  {
   "cell_type": "code",
   "execution_count": 7,
   "metadata": {},
   "outputs": [
    {
     "data": {
      "text/plain": [
       "['仁亮', '子', '敬鹏', '第二十三世', '“敬”字辈', '出生二OOO年一月十一日']"
      ]
     },
     "execution_count": 7,
     "metadata": {},
     "output_type": "execute_result"
    }
   ],
   "source": [
    "random_get_list(extract_lines)"
   ]
  },
  {
   "cell_type": "markdown",
   "metadata": {},
   "source": [
    "## Section 03: 保存数据"
   ]
  },
  {
   "cell_type": "code",
   "execution_count": 8,
   "metadata": {},
   "outputs": [],
   "source": [
    "head = [\n",
    "    \"父辈名\", \"关系\", \"名\", \"世\", \"辈\", \"其他信息\"\n",
    "]\n",
    "csv_save(\n",
    "    fp = txt2csv_config.save_fp,\n",
    "    head = head,\n",
    "    content = extract_lines,\n",
    "    delimiter=txt2csv_config.delimiter,\n",
    "    newline=txt2csv_config.newline,\n",
    "    encoding=txt2csv_config.csv_encoding \n",
    ")"
   ]
  }
 ],
 "metadata": {
  "kernelspec": {
   "display_name": "base",
   "language": "python",
   "name": "python3"
  },
  "language_info": {
   "codemirror_mode": {
    "name": "ipython",
    "version": 3
   },
   "file_extension": ".py",
   "mimetype": "text/x-python",
   "name": "python",
   "nbconvert_exporter": "python",
   "pygments_lexer": "ipython3",
   "version": "3.11.5"
  }
 },
 "nbformat": 4,
 "nbformat_minor": 2
}

{
 "cells": [
  {
   "cell_type": "markdown",
   "metadata": {},
   "source": [
    "# 族谱\n",
    "结构：\n",
    "\n",
    "名字 | 父亲 | 辈分 | 其他信息 "
   ]
  },
  {
   "cell_type": "code",
   "execution_count": 1,
   "metadata": {},
   "outputs": [],
   "source": [
    "from utils.txt2csv_utils import *"
   ]
  },
  {
   "cell_type": "markdown",
   "metadata": {},
   "source": [
    "## Sectoin 01: 处理空格和回车"
   ]
  },
  {
   "cell_type": "code",
   "execution_count": 2,
   "metadata": {},
   "outputs": [
    {
     "name": "stdout",
     "output_type": "stream",
     "text": [
      "Read from raw file with lines: 254\n"
     ]
    },
    {
     "data": {
      "text/plain": [
       "'克友长子 传宝 出生一九三三年五月六日 妻生陈戊云 出生一九三七年八月十日 葬刺木要冲水库上 子仁开 卿恭 女社姣 春姣 秋姣'"
      ]
     },
     "execution_count": 2,
     "metadata": {},
     "output_type": "execute_result"
    }
   ],
   "source": [
    "fp = './data/info.txt'\n",
    "with open(fp, mode='r', encoding='utf-8') as file:\n",
    "    lines = file.readlines()\n",
    "print(f\"Read from raw file with lines: {len(lines)}\")\n",
    "clean_string(random_get_list(lines))"
   ]
  },
  {
   "cell_type": "code",
   "execution_count": 3,
   "metadata": {},
   "outputs": [
    {
     "name": "stdout",
     "output_type": "stream",
     "text": [
      "Cleaned data with lines: 226\n"
     ]
    },
    {
     "data": {
      "text/plain": [
       "'志文女 宗馨 生二OO九年十一月七日'"
      ]
     },
     "execution_count": 3,
     "metadata": {},
     "output_type": "execute_result"
    }
   ],
   "source": [
    "def clean_list(input_list: list[str])->list[str]:\n",
    "    ret_list = []\n",
    "    for i in range(len(input_list)):\n",
    "        cleaned_str = clean_string(input_list[i])\n",
    "        if len(cleaned_str) != 0:\n",
    "            ret_list.append(cleaned_str) \n",
    "    return ret_list\n",
    "cleaned_lines = clean_list(lines)\n",
    "print(f\"Cleaned data with lines: {len(cleaned_lines)}\")\n",
    "random_get_list(cleaned_lines)"
   ]
  },
  {
   "cell_type": "markdown",
   "metadata": {},
   "source": [
    "## Section 02: 提取信息\n",
    "提取 父辈、名字、其他信息"
   ]
  },
  {
   "cell_type": "markdown",
   "metadata": {},
   "source": [
    "#### SubSection 02.01: 提取粗略信息\n",
    "只单纯的提取信息，不做信息之间的关联。\n",
    "\n",
    "信息： | 父亲 | 姓名 | info | 第xx世 | xx辈 |"
   ]
  },
  {
   "cell_type": "code",
   "execution_count": 4,
   "metadata": {},
   "outputs": [],
   "source": [
    "raw_extract_lines = raw_extract_list(cleaned_lines)"
   ]
  },
  {
   "cell_type": "code",
   "execution_count": 5,
   "metadata": {},
   "outputs": [
    {
     "data": {
      "text/plain": [
       "['存成公次子', '上贤公', '第十一世', '“上”字辈', '生庚寅年九月初三日 葬干屋冲 妣蒋氏 子四 国良、国道、国信、国仲']"
      ]
     },
     "execution_count": 5,
     "metadata": {},
     "output_type": "execute_result"
    }
   ],
   "source": [
    "random_get_list(raw_extract_lines)"
   ]
  },
  {
   "cell_type": "markdown",
   "metadata": {},
   "source": [
    "#### SubSection 02.02: 处理父辈\n",
    "信息：|父辈姓名|辈分|姓名|info|第xx世|xx辈|"
   ]
  },
  {
   "cell_type": "code",
   "execution_count": 6,
   "metadata": {},
   "outputs": [],
   "source": [
    "extract_lines = filter_father_name_list(raw_extract_lines)"
   ]
  },
  {
   "cell_type": "code",
   "execution_count": 7,
   "metadata": {},
   "outputs": [
    {
     "data": {
      "text/plain": [
       "['宗璋', '四子', '己元', '第二十世', '“克”字辈', '']"
      ]
     },
     "execution_count": 7,
     "metadata": {},
     "output_type": "execute_result"
    }
   ],
   "source": [
    "random_get_list(extract_lines)"
   ]
  },
  {
   "cell_type": "markdown",
   "metadata": {},
   "source": [
    "## Section 03: 保存数据"
   ]
  },
  {
   "cell_type": "code",
   "execution_count": 8,
   "metadata": {},
   "outputs": [],
   "source": [
    "head = [\n",
    "    \"父辈名\", \"关系\", \"名\", \"世\", \"辈\", \"其他信息\"\n",
    "]\n",
    "csv_save(\n",
    "    fp = './data/zupu.csv',\n",
    "    head = head,\n",
    "    content = extract_lines,\n",
    "    encoding='gbk' \n",
    ")"
   ]
  }
 ],
 "metadata": {
  "kernelspec": {
   "display_name": "base",
   "language": "python",
   "name": "python3"
  },
  "language_info": {
   "codemirror_mode": {
    "name": "ipython",
    "version": 3
   },
   "file_extension": ".py",
   "mimetype": "text/x-python",
   "name": "python",
   "nbconvert_exporter": "python",
   "pygments_lexer": "ipython3",
   "version": "3.11.5"
  }
 },
 "nbformat": 4,
 "nbformat_minor": 2
}

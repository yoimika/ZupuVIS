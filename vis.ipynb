{
 "cells": [
  {
   "cell_type": "markdown",
   "metadata": {},
   "source": [
    "# 族谱可视化\n",
    "Vis for zupu"
   ]
  },
  {
   "cell_type": "code",
   "execution_count": 115,
   "metadata": {},
   "outputs": [
    {
     "name": "stdout",
     "output_type": "stream",
     "text": [
      "The autoreload extension is already loaded. To reload it, use:\n",
      "  %reload_ext autoreload\n"
     ]
    }
   ],
   "source": [
    "%load_ext autoreload\n",
    "%autoreload 2"
   ]
  },
  {
   "cell_type": "code",
   "execution_count": 116,
   "metadata": {},
   "outputs": [],
   "source": [
    "from configs.config import vis_config\n",
    "from utils.vis_utils import *\n",
    "from utils.graph_utils import construct_graph_from_nodes\n",
    "from utils.graph_utils import qing_example_exception_father_and_son\n",
    "from utils.txt2csv_utils import random_get_list, extract_csv\n",
    "from pyvis.network import Network\n",
    "from graph.graph import Graph\n",
    "from graph.person import Person"
   ]
  },
  {
   "cell_type": "markdown",
   "metadata": {},
   "source": [
    "## Section 01: 提取csv文件信息，构建 Graph\n"
   ]
  },
  {
   "cell_type": "code",
   "execution_count": 117,
   "metadata": {},
   "outputs": [
    {
     "name": "stdout",
     "output_type": "stream",
     "text": [
      "The head is ['父辈名', '关系', '名', '世', '辈', '其他信息']\n",
      "Some body is [['以某', '子', '上某公', '第十一世', '“上”字辈', '妣石氏 万历三年 葬观音山 子国寿'], ['存成公', '长子', '上达公', '第十一世', '“上”字辈', '均佚 子国清。'], ['存成公', '次子', '上贤公', '第十一世', '“上”字辈', '生庚寅年九月初三日 葬干屋冲 妣蒋氏 子四 国良、国道、国信、国仲']]\n",
      "Random select: ['明祉', '子', '戊崽', '第十八世', '“荣”字辈', '咸丰九年被寇掠去']\n"
     ]
    }
   ],
   "source": [
    "head, content = extract_csv(\n",
    "    fp=vis_config.csv_fp,\n",
    "    encoding=vis_config.csv_encoding,\n",
    "    delimiter=vis_config.delimiter,\n",
    ")\n",
    "print(f\"The head is {head}\")\n",
    "print(f\"Some body is {content[:3]}\")\n",
    "print(f\"Random select: {random_get_list(content)}\")"
   ]
  },
  {
   "cell_type": "code",
   "execution_count": 118,
   "metadata": {},
   "outputs": [
    {
     "data": {
      "text/plain": [
       "我是莉文, Man!"
      ]
     },
     "execution_count": 118,
     "metadata": {},
     "output_type": "execute_result"
    }
   ],
   "source": [
    "# 初始化所有人\n",
    "all_person = [Person(head, csv_info, idx) for idx, csv_info in enumerate(content)]\n",
    "random_get_list(all_person)"
   ]
  },
  {
   "cell_type": "code",
   "execution_count": 119,
   "metadata": {},
   "outputs": [],
   "source": [
    "exception_name = {\n",
    "    '国某': qing_example_exception_father_and_son\n",
    "}\n",
    "g = construct_graph_from_nodes(\n",
    "    all_person=all_person,\n",
    "    exception_name=exception_name\n",
    ")"
   ]
  },
  {
   "cell_type": "code",
   "execution_count": 120,
   "metadata": {},
   "outputs": [
    {
     "data": {
      "text/plain": [
       "我是国寿, Man!"
      ]
     },
     "execution_count": 120,
     "metadata": {},
     "output_type": "execute_result"
    }
   ],
   "source": [
    "g.roots[0].get_sons()[0].person"
   ]
  },
  {
   "cell_type": "markdown",
   "metadata": {},
   "source": [
    "## Vis Part"
   ]
  },
  {
   "cell_type": "code",
   "execution_count": 121,
   "metadata": {},
   "outputs": [],
   "source": [
    "net = Network(filter_menu=True)"
   ]
  },
  {
   "cell_type": "code",
   "execution_count": 122,
   "metadata": {},
   "outputs": [],
   "source": [
    "ids, labels = get_nodes_from_graph(g)\n",
    "edges = get_edges_from_graph(g)"
   ]
  },
  {
   "cell_type": "code",
   "execution_count": 123,
   "metadata": {},
   "outputs": [],
   "source": [
    "net.add_nodes(ids, label=labels)\n",
    "net.add_edges(edges)"
   ]
  },
  {
   "cell_type": "code",
   "execution_count": 124,
   "metadata": {},
   "outputs": [
    {
     "name": "stdout",
     "output_type": "stream",
     "text": [
      "zupu.html\n"
     ]
    }
   ],
   "source": [
    "net.toggle_physics(True)\n",
    "net.show_buttons(filter_=['physics'])\n",
    "net.show('zupu.html', notebook=False)"
   ]
  }
 ],
 "metadata": {
  "kernelspec": {
   "display_name": "base",
   "language": "python",
   "name": "python3"
  },
  "language_info": {
   "codemirror_mode": {
    "name": "ipython",
    "version": 3
   },
   "file_extension": ".py",
   "mimetype": "text/x-python",
   "name": "python",
   "nbconvert_exporter": "python",
   "pygments_lexer": "ipython3",
   "version": "3.11.5"
  }
 },
 "nbformat": 4,
 "nbformat_minor": 2
}
